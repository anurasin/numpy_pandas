{
 "cells": [
  {
   "cell_type": "markdown",
   "metadata": {},
   "source": [
    "### Data Cleaning"
   ]
  },
  {
   "cell_type": "code",
   "execution_count": 1,
   "metadata": {},
   "outputs": [],
   "source": [
    "import pandas as pd\n",
    "import numpy as np\n",
    "\n",
    "loans = pd.read_csv(\"loan.csv\", encoding = \"ISO-8859-1\", low_memory=False)\n",
    "pd.options.display.max_rows = 60\n",
    "pd.options.display.max_columns = 111"
   ]
  },
  {
   "cell_type": "code",
   "execution_count": 2,
   "metadata": {},
   "outputs": [
    {
     "data": {
      "text/plain": [
       "id                                  0.00\n",
       "member_id                           0.00\n",
       "loan_amnt                           0.00\n",
       "funded_amnt                         0.00\n",
       "funded_amnt_inv                     0.00\n",
       "term                                0.00\n",
       "int_rate                            0.00\n",
       "installment                         0.00\n",
       "grade                               0.00\n",
       "sub_grade                           0.00\n",
       "emp_title                           6.19\n",
       "emp_length                          2.71\n",
       "home_ownership                      0.00\n",
       "annual_inc                          0.00\n",
       "verification_status                 0.00\n",
       "issue_d                             0.00\n",
       "loan_status                         0.00\n",
       "pymnt_plan                          0.00\n",
       "url                                 0.00\n",
       "desc                               32.58\n",
       "purpose                             0.00\n",
       "title                               0.03\n",
       "zip_code                            0.00\n",
       "addr_state                          0.00\n",
       "dti                                 0.00\n",
       "delinq_2yrs                         0.00\n",
       "earliest_cr_line                    0.00\n",
       "inq_last_6mths                      0.00\n",
       "mths_since_last_delinq             64.66\n",
       "mths_since_last_record             92.99\n",
       "                                   ...  \n",
       "mo_sin_old_rev_tl_op              100.00\n",
       "mo_sin_rcnt_rev_tl_op             100.00\n",
       "mo_sin_rcnt_tl                    100.00\n",
       "mort_acc                          100.00\n",
       "mths_since_recent_bc              100.00\n",
       "mths_since_recent_bc_dlq          100.00\n",
       "mths_since_recent_inq             100.00\n",
       "mths_since_recent_revol_delinq    100.00\n",
       "num_accts_ever_120_pd             100.00\n",
       "num_actv_bc_tl                    100.00\n",
       "num_actv_rev_tl                   100.00\n",
       "num_bc_sats                       100.00\n",
       "num_bc_tl                         100.00\n",
       "num_il_tl                         100.00\n",
       "num_op_rev_tl                     100.00\n",
       "num_rev_accts                     100.00\n",
       "num_rev_tl_bal_gt_0               100.00\n",
       "num_sats                          100.00\n",
       "num_tl_120dpd_2m                  100.00\n",
       "num_tl_30dpd                      100.00\n",
       "num_tl_90g_dpd_24m                100.00\n",
       "num_tl_op_past_12m                100.00\n",
       "pct_tl_nvr_dlq                    100.00\n",
       "percent_bc_gt_75                  100.00\n",
       "pub_rec_bankruptcies                1.75\n",
       "tax_liens                           0.10\n",
       "tot_hi_cred_lim                   100.00\n",
       "total_bal_ex_mort                 100.00\n",
       "total_bc_limit                    100.00\n",
       "total_il_high_credit_limit        100.00\n",
       "Length: 111, dtype: float64"
      ]
     },
     "execution_count": 2,
     "metadata": {},
     "output_type": "execute_result"
    }
   ],
   "source": [
    "# summing up the missing values (column-wise) and displaying fraction of NaNs\n",
    "round(100*(loans.isnull().sum()/len(loans.index)), 2)"
   ]
  },
  {
   "cell_type": "code",
   "execution_count": 3,
   "metadata": {},
   "outputs": [
    {
     "data": {
      "text/plain": [
       "id                             0.00\n",
       "member_id                      0.00\n",
       "loan_amnt                      0.00\n",
       "funded_amnt                    0.00\n",
       "funded_amnt_inv                0.00\n",
       "term                           0.00\n",
       "int_rate                       0.00\n",
       "installment                    0.00\n",
       "grade                          0.00\n",
       "sub_grade                      0.00\n",
       "emp_title                      6.19\n",
       "emp_length                     2.71\n",
       "home_ownership                 0.00\n",
       "annual_inc                     0.00\n",
       "verification_status            0.00\n",
       "issue_d                        0.00\n",
       "loan_status                    0.00\n",
       "pymnt_plan                     0.00\n",
       "url                            0.00\n",
       "desc                          32.58\n",
       "purpose                        0.00\n",
       "title                          0.03\n",
       "zip_code                       0.00\n",
       "addr_state                     0.00\n",
       "dti                            0.00\n",
       "delinq_2yrs                    0.00\n",
       "earliest_cr_line               0.00\n",
       "inq_last_6mths                 0.00\n",
       "mths_since_last_delinq        64.66\n",
       "mths_since_last_record        92.99\n",
       "open_acc                       0.00\n",
       "pub_rec                        0.00\n",
       "revol_bal                      0.00\n",
       "revol_util                     0.13\n",
       "total_acc                      0.00\n",
       "initial_list_status            0.00\n",
       "out_prncp                      0.00\n",
       "out_prncp_inv                  0.00\n",
       "total_pymnt                    0.00\n",
       "total_pymnt_inv                0.00\n",
       "total_rec_prncp                0.00\n",
       "total_rec_int                  0.00\n",
       "total_rec_late_fee             0.00\n",
       "recoveries                     0.00\n",
       "collection_recovery_fee        0.00\n",
       "last_pymnt_d                   0.18\n",
       "last_pymnt_amnt                0.00\n",
       "next_pymnt_d                  97.13\n",
       "last_credit_pull_d             0.01\n",
       "collections_12_mths_ex_med     0.14\n",
       "policy_code                    0.00\n",
       "application_type               0.00\n",
       "acc_now_delinq                 0.00\n",
       "chargeoff_within_12_mths       0.14\n",
       "delinq_amnt                    0.00\n",
       "pub_rec_bankruptcies           1.75\n",
       "tax_liens                      0.10\n",
       "dtype: float64"
      ]
     },
     "execution_count": 3,
     "metadata": {},
     "output_type": "execute_result"
    }
   ],
   "source": [
    "# drop all the 100% null columns\n",
    "loans = loans.dropna(axis = 1,how='all')\n",
    "\n",
    "# summing up the missing values (column-wise) and displaying fraction of NaNs\n",
    "round(100*(loans.isnull().sum()/len(loans.index)), 2)"
   ]
  },
  {
   "cell_type": "code",
   "execution_count": 4,
   "metadata": {},
   "outputs": [],
   "source": [
    "'''\n",
    "now remove these 4 columns, which donot contribute to our analysis.\n",
    "next_pymnt_d                  97.13\n",
    "mths_since_last_record        92.99\n",
    "mths_since_last_delinq        64.66\n",
    "desc                          32.58\n",
    "'''\n",
    "\n",
    "loans = loans.drop(['next_pymnt_d', 'mths_since_last_record','mths_since_last_delinq', 'desc'],axis =1)\n",
    "\n",
    "# summing up the missing values (column-wise) and displaying fraction of NaNs\n",
    "#round(100*(loans.isnull().sum()/len(loans.index)), 2)"
   ]
  },
  {
   "cell_type": "code",
   "execution_count": 5,
   "metadata": {},
   "outputs": [],
   "source": [
    "'''\n",
    "now there are three columns with >1% null values.\n",
    "emp_title                     6.19\n",
    "emp_length                    2.71\n",
    "pub_rec_bankruptcies          1.75\n",
    "'''\n",
    "\n",
    "#lets identify if we can remove these columns\n",
    "\n",
    "'''\n",
    "emp_title: \n",
    "'''\n",
    "#The data is parsely distributed for emp_title. maximum group is of us army (both u.s army) (210 + 42)\n",
    "#hence this column is not much of a help, we can safely remove the emp_title column for our analysis.\n",
    "loans['emp_title'] = loans['emp_title'].str.lower()\n",
    "loans.groupby('emp_title').count().sort_values(by='id', ascending=False)\n",
    "loans = loans.drop(['emp_title'],axis =1)\n",
    "\n",
    "'''\n",
    "emp_length: \n",
    "'''\n",
    "# we cannot safely impute the null values in this column. \n",
    "# since its only 2.71% ie 1075 rows. we should remove the rows with null emp_length\n",
    "loans = loans[pd.notnull(loans['emp_length'])]\n",
    "\n",
    "'''\n",
    "pub_rec_bankruptcies:\n",
    "'''\n",
    "loans = loans[pd.notnull(loans['pub_rec_bankruptcies'])]\n",
    "\n",
    "'''\n",
    "last_credit_pull_d\n",
    "'''\n",
    "loans = loans[pd.notnull(loans['last_credit_pull_d'])]"
   ]
  },
  {
   "cell_type": "code",
   "execution_count": 6,
   "metadata": {
    "scrolled": true
   },
   "outputs": [
    {
     "data": {
      "text/plain": [
       "id                            0.00\n",
       "member_id                     0.00\n",
       "loan_amnt                     0.00\n",
       "funded_amnt                   0.00\n",
       "funded_amnt_inv               0.00\n",
       "term                          0.00\n",
       "int_rate                      0.00\n",
       "installment                   0.00\n",
       "grade                         0.00\n",
       "sub_grade                     0.00\n",
       "emp_length                    0.00\n",
       "home_ownership                0.00\n",
       "annual_inc                    0.00\n",
       "verification_status           0.00\n",
       "issue_d                       0.00\n",
       "loan_status                   0.00\n",
       "pymnt_plan                    0.00\n",
       "url                           0.00\n",
       "purpose                       0.00\n",
       "title                         0.03\n",
       "zip_code                      0.00\n",
       "addr_state                    0.00\n",
       "dti                           0.00\n",
       "delinq_2yrs                   0.00\n",
       "earliest_cr_line              0.00\n",
       "inq_last_6mths                0.00\n",
       "open_acc                      0.00\n",
       "pub_rec                       0.00\n",
       "revol_bal                     0.00\n",
       "revol_util                    0.12\n",
       "total_acc                     0.00\n",
       "initial_list_status           0.00\n",
       "out_prncp                     0.00\n",
       "out_prncp_inv                 0.00\n",
       "total_pymnt                   0.00\n",
       "total_pymnt_inv               0.00\n",
       "total_rec_prncp               0.00\n",
       "total_rec_int                 0.00\n",
       "total_rec_late_fee            0.00\n",
       "recoveries                    0.00\n",
       "collection_recovery_fee       0.00\n",
       "last_pymnt_d                  0.17\n",
       "last_pymnt_amnt               0.00\n",
       "last_credit_pull_d            0.00\n",
       "collections_12_mths_ex_med    0.01\n",
       "policy_code                   0.00\n",
       "application_type              0.00\n",
       "acc_now_delinq                0.00\n",
       "chargeoff_within_12_mths      0.01\n",
       "delinq_amnt                   0.00\n",
       "pub_rec_bankruptcies          0.00\n",
       "tax_liens                     0.00\n",
       "dtype: float64"
      ]
     },
     "execution_count": 6,
     "metadata": {},
     "output_type": "execute_result"
    }
   ],
   "source": [
    "# summing up the missing values (column-wise) and displaying fraction of NaNs\n",
    "round(100*(loans.isnull().sum()/len(loans.index)), 2)"
   ]
  },
  {
   "cell_type": "code",
   "execution_count": 7,
   "metadata": {},
   "outputs": [],
   "source": [
    "''' \n",
    "remove all the null rows now.\n",
    "last_pymnt_d                  0.17\n",
    "revol_util                    0.12\n",
    "title                         0.03\n",
    "chargeoff_within_12_mths      0.01\n",
    "collections_12_mths_ex_med    0.01\n",
    "'''\n",
    "\n",
    "loans = loans[pd.notnull(loans['last_pymnt_d'])]\n",
    "loans = loans[pd.notnull(loans['revol_util'])]\n",
    "loans = loans[pd.notnull(loans['title'])]\n",
    "loans = loans[pd.notnull(loans['chargeoff_within_12_mths'])]\n",
    "loans = loans[pd.notnull(loans['collections_12_mths_ex_med'])]"
   ]
  },
  {
   "cell_type": "code",
   "execution_count": 519,
   "metadata": {},
   "outputs": [
    {
     "data": {
      "text/plain": [
       "id                            0\n",
       "member_id                     0\n",
       "loan_amnt                     0\n",
       "funded_amnt                   0\n",
       "funded_amnt_inv               0\n",
       "term                          0\n",
       "int_rate                      0\n",
       "installment                   0\n",
       "grade                         0\n",
       "sub_grade                     0\n",
       "emp_length                    0\n",
       "home_ownership                0\n",
       "annual_inc                    0\n",
       "verification_status           0\n",
       "issue_d                       0\n",
       "loan_status                   0\n",
       "pymnt_plan                    0\n",
       "url                           0\n",
       "purpose                       0\n",
       "title                         0\n",
       "zip_code                      0\n",
       "addr_state                    0\n",
       "dti                           0\n",
       "delinq_2yrs                   0\n",
       "earliest_cr_line              0\n",
       "inq_last_6mths                0\n",
       "open_acc                      0\n",
       "pub_rec                       0\n",
       "revol_bal                     0\n",
       "revol_util                    0\n",
       "total_acc                     0\n",
       "initial_list_status           0\n",
       "out_prncp                     0\n",
       "out_prncp_inv                 0\n",
       "total_pymnt                   0\n",
       "total_pymnt_inv               0\n",
       "total_rec_prncp               0\n",
       "total_rec_int                 0\n",
       "total_rec_late_fee            0\n",
       "recoveries                    0\n",
       "collection_recovery_fee       0\n",
       "last_pymnt_d                  0\n",
       "last_pymnt_amnt               0\n",
       "last_credit_pull_d            0\n",
       "collections_12_mths_ex_med    0\n",
       "policy_code                   0\n",
       "application_type              0\n",
       "acc_now_delinq                0\n",
       "chargeoff_within_12_mths      0\n",
       "delinq_amnt                   0\n",
       "pub_rec_bankruptcies          0\n",
       "tax_liens                     0\n",
       "dtype: int64"
      ]
     },
     "execution_count": 519,
     "metadata": {},
     "output_type": "execute_result"
    }
   ],
   "source": [
    "# summing up the missing values (column-wise) and displaying fraction of NaNs\n",
    "round(100*(loans.isnull().sum()/len(loans.index)), 2)"
   ]
  },
  {
   "cell_type": "code",
   "execution_count": 8,
   "metadata": {},
   "outputs": [],
   "source": [
    "# clean other colums data\n",
    "\n",
    "'''\n",
    "# from the term column we can remove month\n",
    "'''\n",
    "loans.term = loans.term.str.split(' ').str[1]\n",
    "\n",
    "'''\n",
    "from int_rate column we remove the % \n",
    "'''\n",
    "loans.int_rate = loans.int_rate.str.split('%').str[0]\n",
    "\n",
    "'''\n",
    "from revol_util column we remove the % \n",
    "'''\n",
    "loans.revol_util = loans.revol_util.str.split('%').str[0]\n",
    "\n",
    "loans['purpose'] = loans['purpose'].str.lower()\n",
    "loans['int_rate'] = loans['int_rate'].astype(float)\n",
    "loans['term'] = loans['term'].astype(int)\n",
    "loans['revol_util'] = loans['revol_util'].astype(float)\n",
    "\n",
    "'''\n",
    "drop other useless colums\n",
    "'''\n",
    "loans= loans.drop(['id', 'url','title','initial_list_status', 'pymnt_plan',\n",
    "                   'collections_12_mths_ex_med', 'policy_code', 'application_type', \n",
    "                   'acc_now_delinq', 'chargeoff_within_12_mths', 'delinq_amnt', 'tax_liens'],axis=1)  "
   ]
  },
  {
   "cell_type": "code",
   "execution_count": 9,
   "metadata": {},
   "outputs": [],
   "source": [
    "loans['emp_length_in_years'] = loans['emp_length'].apply(lambda x:x.split('years')[0])\n",
    "\n",
    "def convert(x):\n",
    "    if x=='10+ ':\n",
    "        return '10'\n",
    "    elif x=='< 1 year':\n",
    "        return '0'\n",
    "    elif x=='1 year':\n",
    "        return '1'\n",
    "    else:\n",
    "        return x\n",
    "\n",
    "loans['emp_length_in_years'] = loans['emp_length_in_years'].apply(convert)\n",
    "loans= loans.drop(['emp_length'], axis=1)\n",
    "loans['emp_length_in_years'] = loans['emp_length_in_years'].astype(int)"
   ]
  },
  {
   "cell_type": "code",
   "execution_count": 10,
   "metadata": {},
   "outputs": [],
   "source": [
    "loans['issue_d_month'] = loans['issue_d'].apply(lambda x:x.split('-')[0])\n",
    "loans['issue_d_year'] = loans['issue_d'].apply(lambda x:x.split('-')[1])\n",
    "loans= loans.drop(['issue_d'], axis=1)"
   ]
  },
  {
   "cell_type": "code",
   "execution_count": 11,
   "metadata": {},
   "outputs": [],
   "source": [
    "loans['last_pymnt_d_month'] = loans['last_pymnt_d'].apply(lambda x:x.split('-')[0])\n",
    "loans['last_pymnt_d_year'] = loans['last_pymnt_d'].apply(lambda x:x.split('-')[1])\n",
    "loans= loans.drop(['last_pymnt_d'], axis=1)"
   ]
  },
  {
   "cell_type": "code",
   "execution_count": 12,
   "metadata": {},
   "outputs": [],
   "source": [
    "loans['earliest_cr_line_month'] = loans['earliest_cr_line'].apply(lambda x:x.split('-')[0])\n",
    "loans['earliest_cr_line_year'] = loans['earliest_cr_line'].apply(lambda x:x.split('-')[1])\n",
    "loans= loans.drop(['earliest_cr_line'], axis=1)"
   ]
  },
  {
   "cell_type": "code",
   "execution_count": 13,
   "metadata": {},
   "outputs": [],
   "source": [
    "loans['last_credit_pull_d_month'] = loans['last_credit_pull_d'].astype(str).apply(lambda x:x.split('-')[0])\n",
    "loans['last_credit_pull_d_year'] = loans['last_credit_pull_d'].astype(str).apply(lambda x:x.split('-')[1])\n",
    "loans= loans.drop(['last_credit_pull_d'], axis=1)"
   ]
  },
  {
   "cell_type": "code",
   "execution_count": 14,
   "metadata": {},
   "outputs": [],
   "source": [
    "'''\n",
    "also drop not so important columns\n",
    "'''\n",
    "loans = loans.drop(['loan_amnt', 'funded_amnt_inv','delinq_2yrs','pub_rec', \n",
    "                    'out_prncp', 'out_prncp_inv', 'total_pymnt_inv', 'total_rec_prncp', 'total_rec_int',\n",
    "                    'total_rec_late_fee', 'recoveries', 'collection_recovery_fee'], axis=1)"
   ]
  },
  {
   "cell_type": "code",
   "execution_count": 15,
   "metadata": {},
   "outputs": [
    {
     "data": {
      "text/html": [
       "<div>\n",
       "<style scoped>\n",
       "    .dataframe tbody tr th:only-of-type {\n",
       "        vertical-align: middle;\n",
       "    }\n",
       "\n",
       "    .dataframe tbody tr th {\n",
       "        vertical-align: top;\n",
       "    }\n",
       "\n",
       "    .dataframe thead th {\n",
       "        text-align: right;\n",
       "    }\n",
       "</style>\n",
       "<table border=\"1\" class=\"dataframe\">\n",
       "  <thead>\n",
       "    <tr style=\"text-align: right;\">\n",
       "      <th></th>\n",
       "      <th>member_id</th>\n",
       "      <th>funded_amnt</th>\n",
       "      <th>term</th>\n",
       "      <th>int_rate</th>\n",
       "      <th>installment</th>\n",
       "      <th>grade</th>\n",
       "      <th>sub_grade</th>\n",
       "      <th>home_ownership</th>\n",
       "      <th>annual_inc</th>\n",
       "      <th>verification_status</th>\n",
       "      <th>loan_status</th>\n",
       "      <th>purpose</th>\n",
       "      <th>zip_code</th>\n",
       "      <th>addr_state</th>\n",
       "      <th>dti</th>\n",
       "      <th>inq_last_6mths</th>\n",
       "      <th>open_acc</th>\n",
       "      <th>revol_bal</th>\n",
       "      <th>revol_util</th>\n",
       "      <th>total_acc</th>\n",
       "      <th>total_pymnt</th>\n",
       "      <th>last_pymnt_amnt</th>\n",
       "      <th>pub_rec_bankruptcies</th>\n",
       "      <th>emp_length_in_years</th>\n",
       "      <th>issue_d_month</th>\n",
       "      <th>issue_d_year</th>\n",
       "      <th>last_pymnt_d_month</th>\n",
       "      <th>last_pymnt_d_year</th>\n",
       "      <th>earliest_cr_line_month</th>\n",
       "      <th>earliest_cr_line_year</th>\n",
       "      <th>last_credit_pull_d_month</th>\n",
       "      <th>last_credit_pull_d_year</th>\n",
       "    </tr>\n",
       "  </thead>\n",
       "  <tbody>\n",
       "    <tr>\n",
       "      <th>0</th>\n",
       "      <td>1296599</td>\n",
       "      <td>5000</td>\n",
       "      <td>36</td>\n",
       "      <td>10.65</td>\n",
       "      <td>162.87</td>\n",
       "      <td>B</td>\n",
       "      <td>B2</td>\n",
       "      <td>RENT</td>\n",
       "      <td>24000.0</td>\n",
       "      <td>Verified</td>\n",
       "      <td>Fully Paid</td>\n",
       "      <td>credit_card</td>\n",
       "      <td>860xx</td>\n",
       "      <td>AZ</td>\n",
       "      <td>27.65</td>\n",
       "      <td>1</td>\n",
       "      <td>3</td>\n",
       "      <td>13648</td>\n",
       "      <td>83.7</td>\n",
       "      <td>9</td>\n",
       "      <td>5863.155187</td>\n",
       "      <td>171.62</td>\n",
       "      <td>0.0</td>\n",
       "      <td>10</td>\n",
       "      <td>Dec</td>\n",
       "      <td>11</td>\n",
       "      <td>Jan</td>\n",
       "      <td>15</td>\n",
       "      <td>Jan</td>\n",
       "      <td>85</td>\n",
       "      <td>May</td>\n",
       "      <td>16</td>\n",
       "    </tr>\n",
       "    <tr>\n",
       "      <th>1</th>\n",
       "      <td>1314167</td>\n",
       "      <td>2500</td>\n",
       "      <td>60</td>\n",
       "      <td>15.27</td>\n",
       "      <td>59.83</td>\n",
       "      <td>C</td>\n",
       "      <td>C4</td>\n",
       "      <td>RENT</td>\n",
       "      <td>30000.0</td>\n",
       "      <td>Source Verified</td>\n",
       "      <td>Charged Off</td>\n",
       "      <td>car</td>\n",
       "      <td>309xx</td>\n",
       "      <td>GA</td>\n",
       "      <td>1.00</td>\n",
       "      <td>5</td>\n",
       "      <td>3</td>\n",
       "      <td>1687</td>\n",
       "      <td>9.4</td>\n",
       "      <td>4</td>\n",
       "      <td>1008.710000</td>\n",
       "      <td>119.66</td>\n",
       "      <td>0.0</td>\n",
       "      <td>0</td>\n",
       "      <td>Dec</td>\n",
       "      <td>11</td>\n",
       "      <td>Apr</td>\n",
       "      <td>13</td>\n",
       "      <td>Apr</td>\n",
       "      <td>99</td>\n",
       "      <td>Sep</td>\n",
       "      <td>13</td>\n",
       "    </tr>\n",
       "    <tr>\n",
       "      <th>2</th>\n",
       "      <td>1313524</td>\n",
       "      <td>2400</td>\n",
       "      <td>36</td>\n",
       "      <td>15.96</td>\n",
       "      <td>84.33</td>\n",
       "      <td>C</td>\n",
       "      <td>C5</td>\n",
       "      <td>RENT</td>\n",
       "      <td>12252.0</td>\n",
       "      <td>Not Verified</td>\n",
       "      <td>Fully Paid</td>\n",
       "      <td>small_business</td>\n",
       "      <td>606xx</td>\n",
       "      <td>IL</td>\n",
       "      <td>8.72</td>\n",
       "      <td>2</td>\n",
       "      <td>2</td>\n",
       "      <td>2956</td>\n",
       "      <td>98.5</td>\n",
       "      <td>10</td>\n",
       "      <td>3005.666844</td>\n",
       "      <td>649.91</td>\n",
       "      <td>0.0</td>\n",
       "      <td>10</td>\n",
       "      <td>Dec</td>\n",
       "      <td>11</td>\n",
       "      <td>Jun</td>\n",
       "      <td>14</td>\n",
       "      <td>Nov</td>\n",
       "      <td>01</td>\n",
       "      <td>May</td>\n",
       "      <td>16</td>\n",
       "    </tr>\n",
       "    <tr>\n",
       "      <th>3</th>\n",
       "      <td>1277178</td>\n",
       "      <td>10000</td>\n",
       "      <td>36</td>\n",
       "      <td>13.49</td>\n",
       "      <td>339.31</td>\n",
       "      <td>C</td>\n",
       "      <td>C1</td>\n",
       "      <td>RENT</td>\n",
       "      <td>49200.0</td>\n",
       "      <td>Source Verified</td>\n",
       "      <td>Fully Paid</td>\n",
       "      <td>other</td>\n",
       "      <td>917xx</td>\n",
       "      <td>CA</td>\n",
       "      <td>20.00</td>\n",
       "      <td>1</td>\n",
       "      <td>10</td>\n",
       "      <td>5598</td>\n",
       "      <td>21.0</td>\n",
       "      <td>37</td>\n",
       "      <td>12231.890000</td>\n",
       "      <td>357.48</td>\n",
       "      <td>0.0</td>\n",
       "      <td>10</td>\n",
       "      <td>Dec</td>\n",
       "      <td>11</td>\n",
       "      <td>Jan</td>\n",
       "      <td>15</td>\n",
       "      <td>Feb</td>\n",
       "      <td>96</td>\n",
       "      <td>Apr</td>\n",
       "      <td>16</td>\n",
       "    </tr>\n",
       "    <tr>\n",
       "      <th>4</th>\n",
       "      <td>1311748</td>\n",
       "      <td>3000</td>\n",
       "      <td>60</td>\n",
       "      <td>12.69</td>\n",
       "      <td>67.79</td>\n",
       "      <td>B</td>\n",
       "      <td>B5</td>\n",
       "      <td>RENT</td>\n",
       "      <td>80000.0</td>\n",
       "      <td>Source Verified</td>\n",
       "      <td>Current</td>\n",
       "      <td>other</td>\n",
       "      <td>972xx</td>\n",
       "      <td>OR</td>\n",
       "      <td>17.94</td>\n",
       "      <td>0</td>\n",
       "      <td>15</td>\n",
       "      <td>27783</td>\n",
       "      <td>53.9</td>\n",
       "      <td>38</td>\n",
       "      <td>3513.330000</td>\n",
       "      <td>67.79</td>\n",
       "      <td>0.0</td>\n",
       "      <td>1</td>\n",
       "      <td>Dec</td>\n",
       "      <td>11</td>\n",
       "      <td>May</td>\n",
       "      <td>16</td>\n",
       "      <td>Jan</td>\n",
       "      <td>96</td>\n",
       "      <td>May</td>\n",
       "      <td>16</td>\n",
       "    </tr>\n",
       "  </tbody>\n",
       "</table>\n",
       "</div>"
      ],
      "text/plain": [
       "   member_id  funded_amnt  term  int_rate  installment grade sub_grade  \\\n",
       "0    1296599         5000    36     10.65       162.87     B        B2   \n",
       "1    1314167         2500    60     15.27        59.83     C        C4   \n",
       "2    1313524         2400    36     15.96        84.33     C        C5   \n",
       "3    1277178        10000    36     13.49       339.31     C        C1   \n",
       "4    1311748         3000    60     12.69        67.79     B        B5   \n",
       "\n",
       "  home_ownership  annual_inc verification_status  loan_status         purpose  \\\n",
       "0           RENT     24000.0            Verified   Fully Paid     credit_card   \n",
       "1           RENT     30000.0     Source Verified  Charged Off             car   \n",
       "2           RENT     12252.0        Not Verified   Fully Paid  small_business   \n",
       "3           RENT     49200.0     Source Verified   Fully Paid           other   \n",
       "4           RENT     80000.0     Source Verified      Current           other   \n",
       "\n",
       "  zip_code addr_state    dti  inq_last_6mths  open_acc  revol_bal  revol_util  \\\n",
       "0    860xx         AZ  27.65               1         3      13648        83.7   \n",
       "1    309xx         GA   1.00               5         3       1687         9.4   \n",
       "2    606xx         IL   8.72               2         2       2956        98.5   \n",
       "3    917xx         CA  20.00               1        10       5598        21.0   \n",
       "4    972xx         OR  17.94               0        15      27783        53.9   \n",
       "\n",
       "   total_acc   total_pymnt  last_pymnt_amnt  pub_rec_bankruptcies  \\\n",
       "0          9   5863.155187           171.62                   0.0   \n",
       "1          4   1008.710000           119.66                   0.0   \n",
       "2         10   3005.666844           649.91                   0.0   \n",
       "3         37  12231.890000           357.48                   0.0   \n",
       "4         38   3513.330000            67.79                   0.0   \n",
       "\n",
       "   emp_length_in_years issue_d_month issue_d_year last_pymnt_d_month  \\\n",
       "0                   10           Dec           11                Jan   \n",
       "1                    0           Dec           11                Apr   \n",
       "2                   10           Dec           11                Jun   \n",
       "3                   10           Dec           11                Jan   \n",
       "4                    1           Dec           11                May   \n",
       "\n",
       "  last_pymnt_d_year earliest_cr_line_month earliest_cr_line_year  \\\n",
       "0                15                    Jan                    85   \n",
       "1                13                    Apr                    99   \n",
       "2                14                    Nov                    01   \n",
       "3                15                    Feb                    96   \n",
       "4                16                    Jan                    96   \n",
       "\n",
       "  last_credit_pull_d_month last_credit_pull_d_year  \n",
       "0                      May                      16  \n",
       "1                      Sep                      13  \n",
       "2                      May                      16  \n",
       "3                      Apr                      16  \n",
       "4                      May                      16  "
      ]
     },
     "execution_count": 15,
     "metadata": {},
     "output_type": "execute_result"
    }
   ],
   "source": [
    "loans.head()"
   ]
  },
  {
   "cell_type": "code",
   "execution_count": 16,
   "metadata": {},
   "outputs": [
    {
     "name": "stdout",
     "output_type": "stream",
     "text": [
      "92.4667019160561\n"
     ]
    }
   ],
   "source": [
    "#remove all the rows with Current loan_status\n",
    "loans = loans.loc[(loans.loan_status != 'Current')]\n",
    "\n",
    "# remaining values.\n",
    "print(100* len(loans)/39717)\n",
    "\n",
    "#save the cleaned up data in new file.\n",
    "loans.to_csv(\"loans_clean.csv\", sep=',', index=False)"
   ]
  },
  {
   "cell_type": "markdown",
   "metadata": {},
   "source": [
    "## Analysis\n",
    "\n",
    "### Read the clean data "
   ]
  },
  {
   "cell_type": "code",
   "execution_count": 60,
   "metadata": {},
   "outputs": [],
   "source": [
    "import pandas as pd\n",
    "import numpy as np\n",
    "import matplotlib.pyplot as plt\n",
    "import seaborn as sns\n",
    "\n",
    "loans = pd.read_csv(\"loans_clean.csv\", encoding = \"ISO-8859-1\", low_memory=False)\n",
    "pd.options.display.max_rows = 60\n",
    "pd.options.display.max_columns = 111"
   ]
  },
  {
   "cell_type": "markdown",
   "metadata": {},
   "source": [
    "## Univariate Analysis"
   ]
  },
  {
   "cell_type": "markdown",
   "metadata": {},
   "source": [
    "###  Categorical Features"
   ]
  },
  {
   "cell_type": "markdown",
   "metadata": {},
   "source": [
    "#### loan status"
   ]
  },
  {
   "cell_type": "code",
   "execution_count": 20,
   "metadata": {},
   "outputs": [
    {
     "data": {
      "image/png": "[encoded data removed]",
      "text/plain": [
       "<matplotlib.figure.Figure at 0x1161e0fd0>"
      ]
     },
     "metadata": {},
     "output_type": "display_data"
    }
   ],
   "source": [
    "'''\n",
    "distribution of loan status\n",
    "\n",
    "Charged Off 0.14\n",
    "Fully Paid 0.86\n",
    "'''\n",
    "\n",
    "loan_status_count = loans.groupby('loan_status').count()/len(loans)\n",
    "loan_status_count.reset_index(level=0,inplace=True)\n",
    "\n",
    "sns.barplot(x='loan_status', y='member_id', data=loan_status_count)\n",
    "plt.show()"
   ]
  },
  {
   "cell_type": "markdown",
   "metadata": {},
   "source": [
    "#### term"
   ]
  },
  {
   "cell_type": "code",
   "execution_count": 21,
   "metadata": {},
   "outputs": [
    {
     "data": {
      "image/png": "[encoded data removed]",
      "text/plain": [
       "<matplotlib.figure.Figure at 0x1161cf390>"
      ]
     },
     "metadata": {},
     "output_type": "display_data"
    }
   ],
   "source": [
    "term_count = loans.groupby('term').count()/len(loans)\n",
    "term_count.reset_index(level=0,inplace=True)\n",
    "\n",
    "'''\n",
    "36\t0.72678\t\n",
    "60\t0.27322\n",
    "'''\n",
    "\n",
    "plt.figure(figsize=(20, 10))\n",
    "\n",
    "plt.subplot(1, 2, 1)\n",
    "sns.barplot(x='term', y='member_id', data=term_count)\n",
    "\n",
    "plt.show()"
   ]
  },
  {
   "cell_type": "markdown",
   "metadata": {},
   "source": [
    "#### emp_length_in_years"
   ]
  },
  {
   "cell_type": "code",
   "execution_count": 22,
   "metadata": {},
   "outputs": [
    {
     "data": {
      "image/png": "[encoded data removed]",
      "text/plain": [
       "<matplotlib.figure.Figure at 0x114a7c198>"
      ]
     },
     "metadata": {},
     "output_type": "display_data"
    }
   ],
   "source": [
    "emp_length_count = loans.groupby('emp_length_in_years').count()/len(loans)\n",
    "emp_length_count.reset_index(level=0,inplace=True)\n",
    "\n",
    "plt.figure(figsize=(20, 10))\n",
    "\n",
    "plt.subplot(1, 2, 1)\n",
    "sns.barplot(x='emp_length_in_years', y='member_id', data=emp_length_count)\n",
    "\n",
    "plt.show()"
   ]
  },
  {
   "cell_type": "markdown",
   "metadata": {},
   "source": [
    "#### grade and subgrades"
   ]
  },
  {
   "cell_type": "code",
   "execution_count": 24,
   "metadata": {},
   "outputs": [
    {
     "data": {
      "image/png": "[encoded data removed]",
      "text/plain": [
       "<matplotlib.figure.Figure at 0x116205d68>"
      ]
     },
     "metadata": {},
     "output_type": "display_data"
    },
    {
     "data": {
      "image/png": "[encoded data removed]",
      "text/plain": [
       "<matplotlib.figure.Figure at 0x11553e668>"
      ]
     },
     "metadata": {},
     "output_type": "display_data"
    }
   ],
   "source": [
    "grade_count = loans.groupby('grade').count()/len(loans)\n",
    "sub_grade_count = loans.groupby('sub_grade').count()/len(loans)\n",
    "\n",
    "grade_count.reset_index(level=0,inplace=True)\n",
    "sub_grade_count.reset_index(level=0,inplace=True)\n",
    "\n",
    "plt.figure(figsize=(20, 10))\n",
    "\n",
    "plt.subplot(1, 2, 1)\n",
    "sns.barplot(x='grade', y='member_id', data=grade_count)\n",
    "\n",
    "plt.figure(figsize=(30, 10))\n",
    "plt.subplot(1, 2, 2)\n",
    "sns.barplot(x='sub_grade', y='member_id', data=sub_grade_count)\n",
    "\n",
    "plt.show()"
   ]
  },
  {
   "cell_type": "markdown",
   "metadata": {},
   "source": [
    "#### home_ownership"
   ]
  },
  {
   "cell_type": "code",
   "execution_count": 25,
   "metadata": {},
   "outputs": [
    {
     "data": {
      "image/png": "[encoded data removed]",
      "text/plain": [
       "<matplotlib.figure.Figure at 0x1155db320>"
      ]
     },
     "metadata": {},
     "output_type": "display_data"
    }
   ],
   "source": [
    "home_ownership_count = loans.groupby('home_ownership').count()/len(loans)\n",
    "home_ownership_count.reset_index(level=0,inplace=True)\n",
    "\n",
    "plt.figure(figsize=(20, 10))\n",
    "\n",
    "plt.subplot(1, 2, 1)\n",
    "sns.barplot(x='home_ownership', y='member_id', data=home_ownership_count)\n",
    "\n",
    "plt.show()"
   ]
  },
  {
   "cell_type": "markdown",
   "metadata": {},
   "source": [
    "#### verification_status"
   ]
  },
  {
   "cell_type": "code",
   "execution_count": 26,
   "metadata": {},
   "outputs": [
    {
     "data": {
      "image/png": "[encoded data removed]",
      "text/plain": [
       "<matplotlib.figure.Figure at 0x114129080>"
      ]
     },
     "metadata": {},
     "output_type": "display_data"
    }
   ],
   "source": [
    "verification_status_count = loans.groupby('verification_status').count()/len(loans)\n",
    "\n",
    "verification_status_count.reset_index(level=0,inplace=True)\n",
    "\n",
    "plt.figure(figsize=(20, 10))\n",
    "\n",
    "plt.subplot(1, 2, 1)\n",
    "sns.barplot(x='verification_status', y='member_id', data=verification_status_count)\n",
    "\n",
    "plt.show()"
   ]
  },
  {
   "cell_type": "markdown",
   "metadata": {},
   "source": [
    "#### issue_d_year"
   ]
  },
  {
   "cell_type": "code",
   "execution_count": 27,
   "metadata": {},
   "outputs": [
    {
     "data": {
      "image/png": "[encoded data removed]",
      "text/plain": [
       "<matplotlib.figure.Figure at 0x115579630>"
      ]
     },
     "metadata": {},
     "output_type": "display_data"
    }
   ],
   "source": [
    "issue_d_year_count = loans.groupby('issue_d_year').count()/len(loans)\n",
    "issue_d_year_count.reset_index(level=0,inplace=True)\n",
    "\n",
    "plt.figure(figsize=(40, 10))\n",
    "\n",
    "plt.subplot(1, 2, 1)\n",
    "sns.barplot(x='issue_d_year', y='member_id', data=issue_d_year_count)\n",
    "\n",
    "plt.show()"
   ]
  },
  {
   "cell_type": "markdown",
   "metadata": {},
   "source": [
    "#### purpose"
   ]
  },
  {
   "cell_type": "code",
   "execution_count": 28,
   "metadata": {},
   "outputs": [
    {
     "data": {
      "image/png": "[encoded data removed]",
      "text/plain": [
       "<matplotlib.figure.Figure at 0x1155214e0>"
      ]
     },
     "metadata": {},
     "output_type": "display_data"
    }
   ],
   "source": [
    "purpose_count = loans.groupby('purpose').count()/len(loans)\n",
    "purpose_count.reset_index(level=0,inplace=True)\n",
    "\n",
    "plt.figure(figsize=(40, 10))\n",
    "\n",
    "plt.subplot(1, 2, 1)\n",
    "sns.barplot(y='purpose', x='member_id', data=purpose_count)\n",
    "\n",
    "plt.show()"
   ]
  },
  {
   "cell_type": "markdown",
   "metadata": {},
   "source": [
    "#### zip_code"
   ]
  },
  {
   "cell_type": "code",
   "execution_count": 29,
   "metadata": {},
   "outputs": [
    {
     "data": {
      "image/png": "[encoded data removed]",
      "text/plain": [
       "<matplotlib.figure.Figure at 0x114101390>"
      ]
     },
     "metadata": {},
     "output_type": "display_data"
    }
   ],
   "source": [
    "zip_code_count = loans.groupby('zip_code').count()/len(loans)\n",
    "zip_code_count = zip_code_count.sort_values(by='member_id', ascending=False)[:10]\n",
    "zip_code_count.reset_index(level=0,inplace=True)\n",
    "\n",
    "plt.figure(figsize=(40, 10))\n",
    "\n",
    "plt.subplot(1, 2, 1)\n",
    "sns.barplot(y='zip_code', x='member_id', data=zip_code_count)\n",
    "\n",
    "plt.show()"
   ]
  },
  {
   "cell_type": "markdown",
   "metadata": {},
   "source": [
    "#### addr_state"
   ]
  },
  {
   "cell_type": "code",
   "execution_count": 30,
   "metadata": {},
   "outputs": [
    {
     "data": {
      "image/png": "[encoded data removed]",
      "text/plain": [
       "<matplotlib.figure.Figure at 0x11883a0f0>"
      ]
     },
     "metadata": {},
     "output_type": "display_data"
    }
   ],
   "source": [
    "addr_state_count = loans.groupby('addr_state').count()/len(loans)\n",
    "addr_state_count = addr_state_count.sort_values(by='member_id', ascending=False)[:10]\n",
    "addr_state_count.reset_index(level=0,inplace=True)\n",
    "\n",
    "plt.figure(figsize=(40, 10))\n",
    "\n",
    "plt.subplot(1, 2, 1)\n",
    "sns.barplot(y='addr_state', x='member_id', data=addr_state_count)\n",
    "\n",
    "plt.show()"
   ]
  },
  {
   "cell_type": "code",
   "execution_count": 32,
   "metadata": {},
   "outputs": [
    {
     "data": {
      "text/plain": [
       "count    3.672500e+04\n",
       "mean     6.947365e+04\n",
       "std      6.407095e+04\n",
       "min      4.000000e+03\n",
       "25%      4.123500e+04\n",
       "50%      6.000000e+04\n",
       "75%      8.300000e+04\n",
       "max      6.000000e+06\n",
       "Name: annual_inc, dtype: float64"
      ]
     },
     "execution_count": 32,
     "metadata": {},
     "output_type": "execute_result"
    }
   ],
   "source": [
    "loans['annual_inc'].describe()\n",
    "#abs((x-69677.27)/63651.42)"
   ]
  },
  {
   "cell_type": "markdown",
   "metadata": {},
   "source": [
    "### Numerical Features:"
   ]
  },
  {
   "cell_type": "markdown",
   "metadata": {},
   "source": [
    "#### annual_inc"
   ]
  },
  {
   "cell_type": "code",
   "execution_count": 61,
   "metadata": {},
   "outputs": [
    {
     "data": {
      "image/png": "[encoded data removed]",
      "text/plain": [
       "<matplotlib.figure.Figure at 0x115638940>"
      ]
     },
     "metadata": {},
     "output_type": "display_data"
    }
   ],
   "source": [
    "'''\n",
    "count    3.672500e+04\n",
    "mean     6.947365e+04\n",
    "std      6.407095e+04\n",
    "min      4.000000e+03\n",
    "25%      4.123500e+04\n",
    "50%      6.000000e+04\n",
    "75%      8.300000e+04\n",
    "max      6.000000e+06\n",
    "'''\n",
    "loans['annual_inc'].describe()\n",
    "plt.figure(figsize=(30, 20))\n",
    "\n",
    "plt.subplot(1, 2, 1)\n",
    "sns.boxplot(y='annual_inc', data=loans)\n",
    "plt.yscale('log')\n",
    "\n",
    "\n",
    "plt.subplot(1, 2, 2)\n",
    "plt.hist(loans['annual_inc'])\n",
    "plt.yscale('log')\n",
    "\n",
    "plt.show()"
   ]
  },
  {
   "cell_type": "code",
   "execution_count": 62,
   "metadata": {},
   "outputs": [
    {
     "data": {
      "image/png": "[encoded data removed]",
      "text/plain": [
       "<matplotlib.figure.Figure at 0x118821860>"
      ]
     },
     "metadata": {},
     "output_type": "display_data"
    }
   ],
   "source": [
    "'''\n",
    "because of many outliers the std is quite high.\n",
    "'''\n",
    "\n",
    "mean = loans['annual_inc'].mean()\n",
    "std = loans['annual_inc'].std()\n",
    "\n",
    "# calculate the z-score of all the incomes\n",
    "loans['z_score_annual_inc'] = loans['annual_inc'].apply(lambda x: abs((x-mean)/std))\n",
    "loans['z_score_annual_inc'].sort_values(ascending=False)\n",
    "\n",
    "'''\n",
    "we can delete all the entried with z-score > 3\n",
    "29034    93.168742\n",
    "28581    60.176548\n",
    "22689    28.755411\n",
    "6977     26.901564\n",
    "32818    21.528549\n",
    "33136    20.303125\n",
    "10230    18.543541\n",
    "'''\n",
    "\n",
    "# remove the outliers \n",
    "loans = loans.loc[loans.z_score_annual_inc < 2.8]\n",
    "\n",
    "# plot the distribution again\n",
    "loans['annual_inc'].describe()\n",
    "plt.figure(figsize=(30, 20))\n",
    "\n",
    "plt.subplot(1, 2, 1)\n",
    "sns.boxplot(y='annual_inc', data=loans)\n",
    "\n",
    "plt.subplot(1, 2, 2)\n",
    "plt.hist(loans['annual_inc'])\n",
    "\n",
    "plt.show()"
   ]
  },
  {
   "cell_type": "code",
   "execution_count": null,
   "metadata": {},
   "outputs": [],
   "source": []
  },
  {
   "cell_type": "markdown",
   "metadata": {},
   "source": [
    "#### funded_amnt"
   ]
  },
  {
   "cell_type": "code",
   "execution_count": 63,
   "metadata": {},
   "outputs": [
    {
     "data": {
      "image/png": "[encoded data removed]",
      "text/plain": [
       "<matplotlib.figure.Figure at 0x116297c18>"
      ]
     },
     "metadata": {},
     "output_type": "display_data"
    }
   ],
   "source": [
    "'''\n",
    "count    34533.000000\n",
    "mean     10272.141864\n",
    "std       6335.787581\n",
    "min        725.000000\n",
    "25%       5000.000000\n",
    "50%       9000.000000\n",
    "75%      14075.000000\n",
    "max      31000.000000\n",
    "'''\n",
    "loans['funded_amnt'].describe()\n",
    "\n",
    "plt.figure(figsize=(30, 20))\n",
    "\n",
    "plt.subplot(1, 2, 1)\n",
    "sns.boxplot(y='funded_amnt', data=loans)\n",
    "plt.yscale('log')\n",
    "\n",
    "plt.subplot(1, 2, 2)\n",
    "plt.hist(loans['funded_amnt'])\n",
    "plt.yscale('log')\n",
    "\n",
    "plt.show()"
   ]
  },
  {
   "cell_type": "code",
   "execution_count": 64,
   "metadata": {},
   "outputs": [
    {
     "data": {
      "image/png": "[encoded data removed]",
      "text/plain": [
       "<matplotlib.figure.Figure at 0x1155f0828>"
      ]
     },
     "metadata": {},
     "output_type": "display_data"
    }
   ],
   "source": [
    "# lets remove the outliers\n",
    "mean = loans['funded_amnt'].mean()\n",
    "std = loans['funded_amnt'].std()\n",
    "\n",
    "# calculate the z-score of all the incomes\n",
    "loans['z_score_funded_amnt'] = loans['funded_amnt'].apply(lambda x: abs((x-mean)/std))\n",
    "loans['z_score_funded_amnt'].sort_values(ascending=False)\n",
    "\n",
    "# remove the outliers \n",
    "loans = loans.loc[loans.z_score_funded_amnt < 2.4]\n",
    "\n",
    "plt.figure(figsize=(30, 20))\n",
    "\n",
    "plt.subplot(1, 2, 1)\n",
    "sns.boxplot(y='funded_amnt', data=loans)\n",
    "\n",
    "\n",
    "plt.subplot(1, 2, 2)\n",
    "plt.hist(loans['funded_amnt'])\n",
    "\n",
    "plt.show()"
   ]
  },
  {
   "cell_type": "markdown",
   "metadata": {},
   "source": [
    "#### revol_bal"
   ]
  },
  {
   "cell_type": "code",
   "execution_count": 65,
   "metadata": {},
   "outputs": [
    {
     "data": {
      "image/png": "[encoded data removed]",
      "text/plain": [
       "<matplotlib.figure.Figure at 0x1188d57f0>"
      ]
     },
     "metadata": {},
     "output_type": "display_data"
    }
   ],
   "source": [
    "# remove outliers for revol_bal\n",
    "loans['revol_bal'].describe()\n",
    "\n",
    "mean = loans['revol_bal'].mean()\n",
    "std = loans['revol_bal'].std()\n",
    "\n",
    "loans['z_score_revol_bal'] = loans['revol_bal'].apply(lambda x: abs((x-mean)/std))\n",
    "loans['z_score_revol_bal'].sort_values(ascending=False)\n",
    "loans = loans.loc[loans.z_score_revol_bal < 3]\n",
    "\n",
    "plt.hist(loans['revol_bal'])\n",
    "plt.show()"
   ]
  },
  {
   "cell_type": "code",
   "execution_count": null,
   "metadata": {},
   "outputs": [],
   "source": []
  },
  {
   "cell_type": "markdown",
   "metadata": {},
   "source": [
    "## Bivariate and Multivariate Analysis"
   ]
  },
  {
   "cell_type": "code",
   "execution_count": 66,
   "metadata": {},
   "outputs": [],
   "source": [
    "'''\n",
    "distribution of loan status\n",
    "\n",
    "Probability: \n",
    "Charged Off: 0.14\n",
    "Fully Paid:  0.86\n",
    "'''\n",
    "\n",
    "loan_Charged_Off = loans.loc[(loans.loan_status == 'Charged Off')]\n",
    "loan_Fully_Paid = loans.loc[(loans.loan_status == 'Fully Paid')]"
   ]
  },
  {
   "cell_type": "markdown",
   "metadata": {},
   "source": [
    "### Categorical Features:"
   ]
  },
  {
   "cell_type": "markdown",
   "metadata": {},
   "source": [
    "#### loan_status vs loan_grade"
   ]
  },
  {
   "cell_type": "code",
   "execution_count": 67,
   "metadata": {},
   "outputs": [
    {
     "data": {
      "image/png": "[encoded data removed]",
      "text/plain": [
       "<matplotlib.figure.Figure at 0x1188d5710>"
      ]
     },
     "metadata": {},
     "output_type": "display_data"
    }
   ],
   "source": [
    "'''\n",
    "lets now calculate the probability of getting a loan status fully-paid given a loan_grade\n",
    "\n",
    "probability of getting a default/non-default regardless of loan grade is\n",
    "P(default) = 0.14\n",
    "P(non-default) = 0.83\n",
    "'''\n",
    "\n",
    "lco_grade = loan_Charged_Off.groupby('grade').count()['member_id']\n",
    "lfp_grade = loan_Fully_Paid.groupby('grade').count()['member_id']\n",
    "loansgrade = loans.groupby('grade').count()['member_id']\n",
    "\n",
    "co = pd.DataFrame(lco_grade/loansgrade)\n",
    "fp = pd.DataFrame(lfp_grade/loansgrade)\n",
    "\n",
    "co.reset_index(level=0,inplace=True)\n",
    "fp.reset_index(level=0,inplace=True)\n",
    "\n",
    "'''\n",
    "Charged off:\n",
    "0\tA\t0.057932\n",
    "1\tB\t0.118245\n",
    "2\tC\t0.165012\n",
    "3\tD\t0.215724\n",
    "4\tE\t0.264031\n",
    "5\tF\t0.323671\n",
    "6\tG\t0.334694\n",
    "\n",
    "Fully paid:\n",
    "0\tA\t0.942068\n",
    "1\tB\t0.881755\n",
    "2\tC\t0.834988\n",
    "3\tD\t0.784276\n",
    "4\tE\t0.735969\n",
    "5\tF\t0.676329\n",
    "6\tG\t0.665306\n",
    "'''\n",
    "\n",
    "'''\n",
    "here we conclude that the conditional probability of loan default changes by loan status.\n",
    "'''\n",
    "\n",
    "# can be seen thorugh the graphs\n",
    "plt.figure(figsize=(20, 10))\n",
    "\n",
    "plt.subplot(1, 2, 1)\n",
    "sns.barplot(x='grade', y='member_id', data=co)\n",
    "\n",
    "plt.subplot(1, 2, 2)\n",
    "sns.barplot(x='grade', y='member_id', data=fp)\n",
    "plt.show()"
   ]
  },
  {
   "cell_type": "markdown",
   "metadata": {},
   "source": [
    "#### loan_status vs term"
   ]
  },
  {
   "cell_type": "code",
   "execution_count": 68,
   "metadata": {},
   "outputs": [
    {
     "data": {
      "image/png": "[encoded data removed]",
      "text/plain": [
       "<matplotlib.figure.Figure at 0x116246a90>"
      ]
     },
     "metadata": {},
     "output_type": "display_data"
    }
   ],
   "source": [
    "'''\n",
    "lets now calculate the probability of getting a loan status fully-paid given a loan_term\n",
    "\n",
    "probability of getting a default/non-default regardless of loan term is\n",
    "P(default) = 0.14\n",
    "P(non-default) = 0.83\n",
    "'''\n",
    "\n",
    "lco = loan_Charged_Off.groupby('term').count()['member_id']\n",
    "lfp = loan_Fully_Paid.groupby('term').count()['member_id']\n",
    "loanscount = loans.groupby('term').count()['member_id']\n",
    "\n",
    "co = pd.DataFrame(lco/loanscount)\n",
    "fp = pd.DataFrame(lfp/loanscount)\n",
    "\n",
    "co.reset_index(level=0,inplace=True)\n",
    "fp.reset_index(level=0,inplace=True)\n",
    "\n",
    "'''\n",
    "Charged off:\n",
    "0\t36\t0.105707\n",
    "1\t60\t0.249621\n",
    "\n",
    "Fully paid:\n",
    "0\t36\t0.894293\n",
    "1\t60\t0.750379\n",
    "'''\n",
    "\n",
    "'''\n",
    "here we conclude that the conditional probability of loan default changes by loan term.`\n",
    "'''\n",
    "\n",
    "# can be seen thorugh the graphs\n",
    "plt.figure(figsize=(20, 10))\n",
    "\n",
    "plt.subplot(1, 2, 1)\n",
    "sns.barplot(x='term', y='member_id', data=co)\n",
    "\n",
    "plt.subplot(1, 2, 2)\n",
    "sns.barplot(x='term', y='member_id', data=fp)\n",
    "plt.show()"
   ]
  },
  {
   "cell_type": "markdown",
   "metadata": {},
   "source": [
    "#### loan_status vs emp_length"
   ]
  },
  {
   "cell_type": "code",
   "execution_count": 69,
   "metadata": {},
   "outputs": [
    {
     "data": {
      "image/png": "[encoded data removed]",
      "text/plain": [
       "<matplotlib.figure.Figure at 0x11937f080>"
      ]
     },
     "metadata": {},
     "output_type": "display_data"
    }
   ],
   "source": [
    "'''\n",
    "lets now calculate the probability of getting a loan status fully-paid given a emp_length_in_years\n",
    "\n",
    "probability of getting a default/non-default regardless of emp_length_in_years is\n",
    "P(default) = 0.14\n",
    "P(non-default) = 0.83\n",
    "'''\n",
    "\n",
    "lco = loan_Charged_Off.groupby('emp_length_in_years').count()['member_id']\n",
    "lfp = loan_Fully_Paid.groupby('emp_length_in_years').count()['member_id']\n",
    "loanscount = loans.groupby('emp_length_in_years').count()['member_id']\n",
    "\n",
    "co = pd.DataFrame(lco/loanscount)\n",
    "fp = pd.DataFrame(lfp/loanscount)\n",
    "\n",
    "co.reset_index(level=0,inplace=True)\n",
    "fp.reset_index(level=0,inplace=True)\n",
    "\n",
    "'''\n",
    "Charged off:\n",
    "0\t0\t0.137274\n",
    "1\t1\t0.141516\n",
    "2\t2\t0.130853\n",
    "3\t3\t0.137209\n",
    "4\t4\t0.132117\n",
    "5\t5\t0.139796\n",
    "6\t6\t0.137579\n",
    "7\t7\t0.151422\n",
    "8\t8\t0.141785\n",
    "9\t9\t0.128781\n",
    "10\t10\t0.153727\n",
    "\n",
    "Fully paid:\n",
    "0\t0\t0.862726\n",
    "1\t1\t0.858484\n",
    "2\t2\t0.869147\n",
    "3\t3\t0.862791\n",
    "4\t4\t0.867883\n",
    "5\t5\t0.860204\n",
    "6\t6\t0.862421\n",
    "7\t7\t0.848578\n",
    "8\t8\t0.858215\n",
    "9\t9\t0.871219\n",
    "10\t10\t0.846273\n",
    "'''\n",
    "\n",
    "'''\n",
    "there is a very slight change in conditional probability of defaulter with emp_length_in_years\n",
    "here we conclude that the conditional probability of loan default changes by emp_length_in_years.\n",
    "'''\n",
    "\n",
    "# can be seen thorugh the graphs\n",
    "plt.figure(figsize=(20, 10))\n",
    "\n",
    "plt.subplot(1, 2, 1)\n",
    "sns.barplot(x='emp_length_in_years', y='member_id', data=co)\n",
    "\n",
    "plt.subplot(1, 2, 2)\n",
    "sns.barplot(x='emp_length_in_years', y='member_id', data=fp)\n",
    "plt.show()"
   ]
  },
  {
   "cell_type": "markdown",
   "metadata": {},
   "source": [
    "#### loan_status vs verification_status"
   ]
  },
  {
   "cell_type": "code",
   "execution_count": 70,
   "metadata": {},
   "outputs": [
    {
     "data": {
      "image/png": "[encoded data removed]",
      "text/plain": [
       "<matplotlib.figure.Figure at 0x1142f63c8>"
      ]
     },
     "metadata": {},
     "output_type": "display_data"
    }
   ],
   "source": [
    "'''\n",
    "lets now calculate the probability of getting a loan status fully-paid given a verification_status\n",
    "\n",
    "probability of getting a default/non-default regardless of verification_status is\n",
    "P(default) = 0.14\n",
    "P(non-default) = 0.83\n",
    "'''\n",
    "\n",
    "lco = loan_Charged_Off.groupby('verification_status').count()['member_id']\n",
    "lfp = loan_Fully_Paid.groupby('verification_status').count()['member_id']\n",
    "loanscount = loans.groupby('verification_status').count()['member_id']\n",
    "\n",
    "co = pd.DataFrame(lco/loanscount)\n",
    "fp = pd.DataFrame(lfp/loanscount)\n",
    "\n",
    "co.reset_index(level=0,inplace=True)\n",
    "fp.reset_index(level=0,inplace=True)\n",
    "\n",
    "'''\n",
    "Charged off:\n",
    "0\tNot Verified\t0.121841\n",
    "1\tSource Verified\t0.145661\n",
    "2\tVerified\t0.163552\n",
    "\n",
    "Fully paid:\n",
    "0\tNot Verified\t0.878159\n",
    "1\tSource Verified\t0.854339\n",
    "2\tVerified\t0.836448\n",
    "'''\n",
    "\n",
    "'''\n",
    "there is a very slight change in conditional probability of defaulter with verification_status\n",
    "here we conclude that the conditional probability of loan default changes by verification_status.\n",
    "'''\n",
    "\n",
    "# can be seen thorugh the graphs\n",
    "plt.figure(figsize=(20, 10))\n",
    "\n",
    "plt.subplot(1, 2, 1)\n",
    "sns.barplot(x='verification_status', y='member_id', data=co)\n",
    "\n",
    "plt.subplot(1, 2, 2)\n",
    "sns.barplot(x='verification_status', y='member_id', data=fp)\n",
    "plt.show()"
   ]
  },
  {
   "cell_type": "markdown",
   "metadata": {},
   "source": [
    "#### loan_status vs purpose"
   ]
  },
  {
   "cell_type": "code",
   "execution_count": 75,
   "metadata": {},
   "outputs": [
    {
     "data": {
      "image/png": "[encoded data removed]",
      "text/plain": [
       "<matplotlib.figure.Figure at 0x11888df28>"
      ]
     },
     "metadata": {},
     "output_type": "display_data"
    }
   ],
   "source": [
    "'''\n",
    "lets now calculate the probability of getting a loan status fully-paid given a purpose\n",
    "\n",
    "probability of getting a default/non-default regardless of purpose is\n",
    "P(default) = 0.14\n",
    "P(non-default) = 0.83\n",
    "'''\n",
    "\n",
    "lco = loan_Charged_Off.groupby('purpose').count()['member_id']\n",
    "lfp = loan_Fully_Paid.groupby('purpose').count()['member_id']\n",
    "loanscount = loans.groupby('purpose').count()['member_id']\n",
    "\n",
    "co = pd.DataFrame(lco/loanscount)\n",
    "fp = pd.DataFrame(lfp/loanscount)\n",
    "\n",
    "co.reset_index(level=0,inplace=True)\n",
    "fp.reset_index(level=0,inplace=True)\n",
    "\n",
    "'''\n",
    "Charged off:\n",
    "0\tcar\t0.107527\n",
    "1\tcredit_card\t0.103253\n",
    "2\tdebt_consolidation\t0.148360\n",
    "3\teducational\t0.163121\n",
    "4\thome_improvement\t0.116187\n",
    "5\thouse\t0.157576\n",
    "6\tmajor_purchase\t0.099699\n",
    "7\tmedical\t0.153355\n",
    "8\tmoving\t0.150376\n",
    "9\tother\t0.158639\n",
    "10\trenewable_energy\t0.179775\n",
    "11\tsmall_business\t0.264052\n",
    "12\tvacation\t0.147929\n",
    "13\twedding\t0.091119\n",
    "\n",
    "Fully paid:\n",
    "0\tcar\t0.892473\n",
    "1\tcredit_card\t0.896747\n",
    "2\tdebt_consolidation\t0.851640\n",
    "3\teducational\t0.836879\n",
    "4\thome_improvement\t0.883813\n",
    "5\thouse\t0.842424\n",
    "6\tmajor_purchase\t0.900301\n",
    "7\tmedical\t0.846645\n",
    "8\tmoving\t0.849624\n",
    "9\tother\t0.841361\n",
    "10\trenewable_energy\t0.820225\n",
    "11\tsmall_business\t0.735948\n",
    "12\tvacation\t0.852071\n",
    "13\twedding\t0.908881\n",
    "'''\n",
    "\n",
    "'''\n",
    "there is a very slight change in conditional probability of defaulter with verification_status\n",
    "here we conclude that the conditional probability of loan default changes by verification_status.\n",
    "'''\n",
    "\n",
    "# can be seen thorugh the graphs\n",
    "plt.figure(figsize=(30, 20))\n",
    "\n",
    "plt.subplot(1, 2, 1)\n",
    "sns.barplot(y='purpose', x='member_id', data=co)\n",
    "\n",
    "plt.subplot(1, 2, 2)\n",
    "sns.barplot(y='purpose', x='member_id', data=fp)\n",
    "plt.show()"
   ]
  },
  {
   "cell_type": "code",
   "execution_count": null,
   "metadata": {},
   "outputs": [],
   "source": []
  },
  {
   "cell_type": "markdown",
   "metadata": {},
   "source": [
    "### Numerical Features"
   ]
  },
  {
   "cell_type": "markdown",
   "metadata": {},
   "source": [
    "#### annual_inc vs funded_amnt:"
   ]
  },
  {
   "cell_type": "code",
   "execution_count": 76,
   "metadata": {},
   "outputs": [
    {
     "name": "stdout",
     "output_type": "stream",
     "text": [
      "             annual_inc  funded_amnt\n",
      "annual_inc     1.000000     0.368262\n",
      "funded_amnt    0.368262     1.000000\n"
     ]
    },
    {
     "data": {
      "image/png": "[encoded data removed]",
      "text/plain": [
       "<matplotlib.figure.Figure at 0x1143b0eb8>"
      ]
     },
     "metadata": {},
     "output_type": "display_data"
    }
   ],
   "source": [
    "# lets check if funded_amnt increases with increase in annual_inc\n",
    "\n",
    "'''\n",
    "            annual_inc\tfunded_amnt\n",
    "annual_inc\t1.000000\t0.361047\n",
    "funded_amnt\t0.361047\t1.000000\n",
    "'''\n",
    "# lets Compute the correlation between these two\n",
    "print(loans[['annual_inc', 'funded_amnt']].corr())\n",
    "\n",
    "plt.figure(figsize=(10, 10))\n",
    "plt.scatter(loans['annual_inc'],loans['funded_amnt'])\n",
    "#sns.jointplot(x='annual_inc', y='funded_amnt', data=loans)\n",
    "plt.show()"
   ]
  },
  {
   "cell_type": "code",
   "execution_count": 77,
   "metadata": {},
   "outputs": [
    {
     "data": {
      "text/html": [
       "<div>\n",
       "<style scoped>\n",
       "    .dataframe tbody tr th:only-of-type {\n",
       "        vertical-align: middle;\n",
       "    }\n",
       "\n",
       "    .dataframe tbody tr th {\n",
       "        vertical-align: top;\n",
       "    }\n",
       "\n",
       "    .dataframe thead th {\n",
       "        text-align: right;\n",
       "    }\n",
       "</style>\n",
       "<table border=\"1\" class=\"dataframe\">\n",
       "  <thead>\n",
       "    <tr style=\"text-align: right;\">\n",
       "      <th></th>\n",
       "      <th>funded_amnt</th>\n",
       "      <th>annual_inc</th>\n",
       "    </tr>\n",
       "  </thead>\n",
       "  <tbody>\n",
       "    <tr>\n",
       "      <th>count</th>\n",
       "      <td>29750.000000</td>\n",
       "      <td>29750.000000</td>\n",
       "    </tr>\n",
       "    <tr>\n",
       "      <th>mean</th>\n",
       "      <td>9995.812605</td>\n",
       "      <td>64573.403125</td>\n",
       "    </tr>\n",
       "    <tr>\n",
       "      <th>std</th>\n",
       "      <td>5984.637588</td>\n",
       "      <td>33532.760227</td>\n",
       "    </tr>\n",
       "    <tr>\n",
       "      <th>min</th>\n",
       "      <td>725.000000</td>\n",
       "      <td>4000.000000</td>\n",
       "    </tr>\n",
       "    <tr>\n",
       "      <th>25%</th>\n",
       "      <td>5000.000000</td>\n",
       "      <td>40901.000000</td>\n",
       "    </tr>\n",
       "    <tr>\n",
       "      <th>50%</th>\n",
       "      <td>9000.000000</td>\n",
       "      <td>58000.000000</td>\n",
       "    </tr>\n",
       "    <tr>\n",
       "      <th>75%</th>\n",
       "      <td>14000.000000</td>\n",
       "      <td>80000.000000</td>\n",
       "    </tr>\n",
       "    <tr>\n",
       "      <th>max</th>\n",
       "      <td>27600.000000</td>\n",
       "      <td>245000.000000</td>\n",
       "    </tr>\n",
       "  </tbody>\n",
       "</table>\n",
       "</div>"
      ],
      "text/plain": [
       "        funded_amnt     annual_inc\n",
       "count  29750.000000   29750.000000\n",
       "mean    9995.812605   64573.403125\n",
       "std     5984.637588   33532.760227\n",
       "min      725.000000    4000.000000\n",
       "25%     5000.000000   40901.000000\n",
       "50%     9000.000000   58000.000000\n",
       "75%    14000.000000   80000.000000\n",
       "max    27600.000000  245000.000000"
      ]
     },
     "execution_count": 77,
     "metadata": {},
     "output_type": "execute_result"
    }
   ],
   "source": [
    "# It can be observed that the mean of annual_inc and funded_amnt \n",
    "# mean loan for charged_off > mean loan of fully_paid\n",
    "# and, \n",
    "# mean annual income of charged_off < mean annual income of fully_paid \n",
    "\n",
    "'''\n",
    "summaries for Charged off loans\n",
    "        funded_amnt     annual_inc\n",
    "count   4673.000000    4673.000000\n",
    "mean   10744.232827   55514.527287\n",
    "std     6382.837452   26285.782481\n",
    "min     1000.000000    4080.000000\n",
    "25%     5375.000000   36000.000000\n",
    "50%    10000.000000   50004.000000\n",
    "75%    15000.000000   69000.000000\n",
    "max    27600.000000  157656.000000\n",
    "'''\n",
    "loan_Charged_Off[['funded_amnt','annual_inc']].describe()\n",
    "\n",
    "\n",
    "'''\n",
    "summaries for Fully Paid loans\n",
    "        funded_amnt     annual_inc\n",
    "count  28575.000000   28575.000000\n",
    "mean    9822.330709   61401.337698\n",
    "std     5876.107265   28346.395243\n",
    "min      725.000000    4000.000000\n",
    "25%     5000.000000   40000.000000\n",
    "50%     8800.000000   56000.000000\n",
    "75%    13250.000000   77000.000000\n",
    "max    27600.000000  158400.000000\n",
    "'''\n",
    "loan_Fully_Paid[['funded_amnt','annual_inc']].describe()"
   ]
  },
  {
   "cell_type": "code",
   "execution_count": 78,
   "metadata": {},
   "outputs": [],
   "source": [
    "loan_Charged_Off = loans.loc[(loans.loan_status == 'Charged Off')]\n",
    "loan_Fully_Paid = loans.loc[(loans.loan_status == 'Fully Paid')]"
   ]
  },
  {
   "cell_type": "markdown",
   "metadata": {},
   "source": [
    "#### annual_inc vs emp_length_in_years"
   ]
  },
  {
   "cell_type": "code",
   "execution_count": 79,
   "metadata": {},
   "outputs": [],
   "source": [
    "# does this mean higher the length of experience higher is the salary\n",
    "# by comparing all the groups (emp length wise) it can be assumed that higher the experience more the salary\n",
    "\n",
    "'''\n",
    "for Charged off\n",
    "count\tmean\tstd\tmin\t25%\t50%\t75%\tmax\n",
    "emp_length_in_years\t\t\t\t\t\t\t\t\n",
    "0\t556.0\t47736.590198\t26599.269840\t4080.0\t29676.00\t42000.0\t60000.0\t150000.0\n",
    "1\t403.0\t50688.894392\t25522.397443\t9600.0\t32004.00\t45000.0\t60784.5\t144240.0\n",
    "2\t511.0\t49847.814325\t26103.303344\t8000.0\t33000.00\t44004.0\t60000.0\t157656.0\n",
    "3\t504.0\t53853.645675\t25320.692209\t9600.0\t36000.00\t50000.0\t66000.0\t150000.0\n",
    "4\t396.0\t53942.095227\t24801.349124\t9600.0\t36000.00\t48000.0\t70000.0\t154000.0\n",
    "5\t398.0\t56575.342111\t26262.950826\t9600.0\t38100.00\t51435.5\t69000.0\t155000.0\n",
    "6\t270.0\t57641.445000\t25260.047225\t17496.0\t38076.00\t52705.0\t71958.0\t144500.0\n",
    "7\t226.0\t54774.564381\t24221.645213\t6000.0\t36104.21\t50000.0\t65750.0\t155000.0\n",
    "8\t173.0\t60961.038092\t28848.809334\t15000.0\t40000.00\t54000.0\t74496.0\t152004.0\n",
    "9\t143.0\t61910.746573\t27961.681811\t18000.0\t42570.00\t55000.0\t72500.0\t157000.0\n",
    "10\t1093.0\t62777.633083\t25258.852278\t10000.0\t45000.00\t59670.0\t75000.0\t157124.0\n",
    "'''\n",
    "lco = loan_Charged_Off.groupby('emp_length_in_years').describe()\n",
    "\n",
    "#for Fully Paid\n",
    "'''\n",
    "count\tmean\tstd\tmin\t25%\t50%\t75%\tmax\n",
    "emp_length_in_years\t\t\t\t\t\t\t\t\n",
    "0\t3481.0\t55502.435317\t29541.785284\t4000.0\t33600.0\t50000.0\t72000.00\t156000.0\n",
    "1\t2456.0\t56467.487879\t27839.852576\t6000.0\t36000.0\t50000.0\t70279.55\t158000.0\n",
    "2\t3407.0\t56438.886413\t27314.830756\t7000.0\t36430.5\t50400.0\t70000.00\t158400.0\n",
    "3\t3155.0\t59691.021791\t28333.382788\t6000.0\t39500.0\t54000.0\t74032.00\t158000.0\n",
    "4\t2635.0\t60649.555032\t27723.034760\t8004.0\t40000.0\t55000.0\t75477.50\t156000.0\n",
    "5\t2469.0\t60454.356529\t27155.786790\t9840.0\t40000.0\t55000.0\t75600.00\t158367.0\n",
    "6\t1675.0\t61088.778191\t26688.917796\t10000.0\t40000.0\t56000.0\t75736.50\t158000.0\n",
    "7\t1305.0\t62618.958529\t26294.954873\t8500.0\t43200.0\t58000.0\t76000.00\t152000.0\n",
    "8\t1062.0\t63574.415198\t26788.205006\t14000.0\t45000.0\t58000.0\t79563.50\t156000.0\n",
    "9\t950.0\t66270.869453\t27545.179075\t9732.0\t45700.0\t60998.0\t82000.00\t155004.0\n",
    "10\t5980.0\t69975.661259\t28274.396326\t8088.0\t50000.0\t65000.0\t86000.00\t158000.0\n",
    "'''\n",
    "lfp = loan_Fully_Paid.groupby('emp_length_in_years').describe()\n",
    "\n",
    "\n",
    "# overall distribution of annual income with respect to employee exprience\n",
    "'''\n",
    "count\tmean\tstd\tmin\t25%\t50%\t75%\tmax\n",
    "emp_length_in_years\t\t\t\t\t\t\t\t\n",
    "0\t4037.0\t54432.876267\t29273.677711\t4000.0\t32400.0\t48000.0\t70000.0\t156000.0\n",
    "1\t2859.0\t55652.946719\t27594.141565\t6000.0\t35230.0\t50000.0\t70000.0\t158000.0\n",
    "2\t3918.0\t55579.254500\t27247.226585\t7000.0\t36000.0\t50000.0\t69999.0\t158400.0\n",
    "3\t3659.0\t58886.966704\t28006.825248\t6000.0\t38400.0\t53004.0\t72000.0\t158000.0\n",
    "4\t3031.0\t59773.225741\t27448.482718\t8004.0\t40000.0\t55000.0\t75000.0\t156000.0\n",
    "5\t2867.0\t59915.867607\t27062.377763\t9600.0\t40000.0\t54996.0\t75000.0\t158367.0\n",
    "6\t1945.0\t60610.228082\t26515.694549\t10000.0\t40000.0\t55008.0\t75000.0\t158000.0\n",
    "7\t1531.0\t61461.000934\t26140.351493\t6000.0\t42000.0\t56000.0\t75000.0\t155000.0\n",
    "8\t1235.0\t63208.330794\t27089.288966\t14000.0\t44050.0\t57995.0\t78000.0\t156000.0\n",
    "9\t1093.0\t65700.423367\t27626.294500\t9732.0\t45000.0\t60000.0\t80000.0\t157000.0\n",
    "10\t7073.0\t68863.340491\t27949.448662\t8088.0\t49000.0\t64000.0\t85000.0\t158000.0\n",
    "'''\n",
    "loans_emp_length_in_years_desc = loans.groupby('emp_length_in_years').describe()['annual_inc']"
   ]
  },
  {
   "cell_type": "code",
   "execution_count": 80,
   "metadata": {},
   "outputs": [
    {
     "data": {
      "image/png": "[encoded data removed]",
      "text/plain": [
       "<matplotlib.figure.Figure at 0x11883a7b8>"
      ]
     },
     "metadata": {},
     "output_type": "display_data"
    }
   ],
   "source": [
    "loans_emp_length_in_years_desc\n",
    "#loans_emp_length_in_years_desc.reset_index(level=0,inplace=True)\n",
    "#sns.boxplot(x='index',y='mean',data=loan_Fully_Paid)\n",
    "\n",
    "plt.figure(figsize=(20, 10))\n",
    "#plt.subplot(1,2,1)\n",
    "lfps = lfp['annual_inc']\n",
    "lfps.reset_index(level=0,inplace=True)\n",
    "sns.barplot(x='emp_length_in_years',y='mean',data=lfps, color='green')\n",
    "\n",
    "#plt.subplot(1,2,2)\n",
    "lcos = lco['annual_inc']\n",
    "lcos.reset_index(level=0,inplace=True)\n",
    "sns.barplot(x='emp_length_in_years',y='mean',data=lcos, color='red')\n",
    "plt.show()\n",
    "\n"
   ]
  },
  {
   "cell_type": "markdown",
   "metadata": {},
   "source": [
    "#### loan_status vs int_rate"
   ]
  },
  {
   "cell_type": "code",
   "execution_count": 81,
   "metadata": {},
   "outputs": [],
   "source": [
    "# for Charged off customers\n",
    "'''\n",
    "count    4673.000000\n",
    "mean       13.760188\n",
    "std         3.586025\n",
    "min         5.420000\n",
    "25%        11.360000\n",
    "50%        13.570000\n",
    "75%        16.320000\n",
    "max        24.400000\n",
    "'''\n",
    "lco = loan_Charged_Off['int_rate'].describe()\n",
    "\n",
    "\n",
    "# for Fully paid customers\n",
    "'''\n",
    "count    28575.000000\n",
    "mean        11.541117\n",
    "std          3.541412\n",
    "min          5.420000\n",
    "25%          8.490000\n",
    "50%         11.490000\n",
    "75%         13.980000\n",
    "max         24.110000\n",
    "'''\n",
    "lfp = loan_Fully_Paid['int_rate'].describe()\n",
    "\n",
    "#####\n",
    "# do it mean that the interest rate is higher for charged off customers.\n",
    "# by comparing both the groups (default and non-default) it can be observed that average rate of interest\n",
    "# for defaulters were higher then non-defaulters\n",
    "####"
   ]
  },
  {
   "cell_type": "code",
   "execution_count": 92,
   "metadata": {
    "scrolled": true
   },
   "outputs": [
    {
     "data": {
      "image/png": "[encoded data removed]",
      "text/plain": [
       "<matplotlib.figure.Figure at 0x115579cc0>"
      ]
     },
     "metadata": {},
     "output_type": "display_data"
    }
   ],
   "source": [
    "# distribution of interest rate for defaulter ans non-defaulters respectively\n",
    "\n",
    "#plt.figure(figsize=(20, 10)))\n",
    "plt.subplot(1,2,1)\n",
    "plt.hist(loan_Charged_Off['int_rate'])\n",
    "\n",
    "plt.subplot(1,2,2)\n",
    "plt.hist(loan_Fully_Paid['int_rate'])\n",
    "plt.show()"
   ]
  },
  {
   "cell_type": "markdown",
   "metadata": {},
   "source": [
    "## Hypothesis Testing "
   ]
  },
  {
   "cell_type": "markdown",
   "metadata": {},
   "source": [
    "### 1. loan_status vs int_rate"
   ]
  },
  {
   "cell_type": "code",
   "execution_count": 82,
   "metadata": {},
   "outputs": [
    {
     "data": {
      "text/plain": [
       "'\\nt Stat\\t39.28457772\\nt Critical two-tail\\t1.960343317\\n'"
      ]
     },
     "execution_count": 82,
     "metadata": {},
     "output_type": "execute_result"
    }
   ],
   "source": [
    "# lets conduct a statistical test \n",
    "\n",
    "'''\n",
    "H0: each interest rate has equal change of loan default (int_rate1 == int_rate2)\n",
    "H1: not equal chances; [int_rate1 != int_rate2]\n",
    "'''\n",
    "\n",
    "# lets perform the t-test in excel\n",
    "# its a two tailed test\n",
    "loans.to_csv(\"loans_clean_ht_1.csv\", sep=',', index=False)\n",
    "\n",
    "\n",
    "'''\n",
    "t Stat\t39.28457772\n",
    "t Critical two-tail\t1.960343317\n",
    "'''\n",
    "\n",
    "# since t_stat > t_critical\n",
    "# it means we reject H0 \n",
    "\n",
    "# it means that probability of a customer defaults depends on interest rate (H1)"
   ]
  },
  {
   "cell_type": "markdown",
   "metadata": {},
   "source": [
    "### 2. loan_status vs term"
   ]
  },
  {
   "cell_type": "code",
   "execution_count": 83,
   "metadata": {},
   "outputs": [
    {
     "data": {
      "text/plain": [
       "'\\nt Stat\\t28.68069651\\nt Critical two-tail\\t1.960377286\\n'"
      ]
     },
     "execution_count": 83,
     "metadata": {},
     "output_type": "execute_result"
    }
   ],
   "source": [
    "# lets conduct a statistical test \n",
    "\n",
    "'''\n",
    "H0: each loan term has equal change of loan default (P(36) == P(60))\n",
    "H1: not equal chances; [P1 != P2]\n",
    "'''\n",
    "\n",
    "# lets perform the t-test in excel\n",
    "# its a two tailed test\n",
    "loans.to_csv(\"loans_clean_ht_1.csv\", sep=',', index=False)\n",
    "\n",
    "\n",
    "'''\n",
    "t Stat\t28.68069651\n",
    "t Critical two-tail\t1.960377286\n",
    "'''\n",
    "\n",
    "# since t_stat > t_critical\n",
    "# it means we reject H0 \n",
    "\n",
    "# it means that probabilities of a customer defaults depends on loan term (H1)"
   ]
  },
  {
   "cell_type": "markdown",
   "metadata": {},
   "source": [
    "### 3. loan_status vs funded_amnt"
   ]
  },
  {
   "cell_type": "code",
   "execution_count": 84,
   "metadata": {},
   "outputs": [
    {
     "data": {
      "text/plain": [
       "'\\nt Stat\\t9.253018707\\nt Critical two-tail\\t1.960356952\\n'"
      ]
     },
     "execution_count": 84,
     "metadata": {},
     "output_type": "execute_result"
    }
   ],
   "source": [
    "# lets conduct a statistical test \n",
    "\n",
    "'''\n",
    "H0: each funded_amnt has equal change of loan default (P(loan1) == P(loan2))\n",
    "H1: not equal chances; [P1 != P2]\n",
    "'''\n",
    "\n",
    "# lets perform the t-test in excel\n",
    "# its a two tailed test\n",
    "loans.to_csv(\"loans_clean_ht_1.csv\", sep=',', index=False)\n",
    "\n",
    "\n",
    "'''\n",
    "t Stat\t9.253018707\n",
    "t Critical two-tail\t1.960356952\n",
    "'''\n",
    "\n",
    "# since t_stat > t_critical\n",
    "# it means we reject H0 \n",
    "\n",
    "# it means that probabilities of a customer defaults depends on funded amount (H1)"
   ]
  },
  {
   "cell_type": "markdown",
   "metadata": {},
   "source": [
    "### 4. loan_status vs annual_inc"
   ]
  },
  {
   "cell_type": "code",
   "execution_count": 85,
   "metadata": {},
   "outputs": [
    {
     "data": {
      "text/plain": [
       "'\\n        fp_annual_inc\\tco_annual_inc\\nMean\\t61401.3377\\t55514.52729\\n\\nt Stat\\t14.03300957\\nt Critical two-tail\\t1.960356952\\n'"
      ]
     },
     "execution_count": 85,
     "metadata": {},
     "output_type": "execute_result"
    }
   ],
   "source": [
    "# lets conduct a statistical test \n",
    "\n",
    "'''\n",
    "H0: each customer with any annual_inc has equal change of loan default (P(income1) == P(income2))\n",
    "H1: not equal chances; [P1 != P2]\n",
    "'''\n",
    "\n",
    "# lets perform the t-test in excel\n",
    "# its a two tailed test\n",
    "loans.to_csv(\"loans_clean_ht_1.csv\", sep=',', index=False)\n",
    "\n",
    "\n",
    "'''\n",
    "        fp_annual_inc\tco_annual_inc\n",
    "Mean\t61401.3377\t55514.52729\n",
    "\n",
    "t Stat\t14.03300957\n",
    "t Critical two-tail\t1.960356952\n",
    "'''\n",
    "\n",
    "# since t_stat > t_critical\n",
    "# it means we reject H0 \n",
    "\n",
    "# it means that probabilities of a customer defaults depends on his annual_inc (H1)"
   ]
  },
  {
   "cell_type": "markdown",
   "metadata": {},
   "source": [
    "### 4. loan_status vs revol_util"
   ]
  },
  {
   "cell_type": "code",
   "execution_count": 86,
   "metadata": {},
   "outputs": [
    {
     "data": {
      "text/plain": [
       "'\\n\\tco_revol_util\\tfp_revol_util\\nMean\\t55.43339825\\t47.30745057\\n\\nt Stat\\t18.49943549\\nt Critical two-tail\\t1.960356952\\n'"
      ]
     },
     "execution_count": 86,
     "metadata": {},
     "output_type": "execute_result"
    }
   ],
   "source": [
    "# lets conduct a statistical test \n",
    "\n",
    "'''\n",
    "H0: each customer with any revol_util has equal change of loan default (P(revol_util1) == P(revol_util2))\n",
    "H1: not equal chances; [P1 != P2]\n",
    "'''\n",
    "\n",
    "# lets perform the t-test in excel\n",
    "# its a two tailed test\n",
    "loans.to_csv(\"loans_clean_ht_1.csv\", sep=',', index=False)\n",
    "\n",
    "\n",
    "'''\n",
    "\tco_revol_util\tfp_revol_util\n",
    "Mean\t55.43339825\t47.30745057\n",
    "\n",
    "t Stat\t18.49943549\n",
    "t Critical two-tail\t1.960356952\n",
    "'''\n",
    "\n",
    "# since t_stat > t_critical\n",
    "# it means we reject H0 \n",
    "\n",
    "# it means that probabilities of a customer defaults depends on his revol_util (H1)"
   ]
  }
 ],
 "metadata": {
  "kernelspec": {
   "display_name": "Python 3",
   "language": "python",
   "name": "python3"
  },
  "language_info": {
   "codemirror_mode": {
    "name": "ipython",
    "version": 3
   },
   "file_extension": ".py",
   "mimetype": "text/x-python",
   "name": "python",
   "nbconvert_exporter": "python",
   "pygments_lexer": "ipython3",
   "version": "3.6.4"
  },
  "name": "_merged"
 },
 "nbformat": 4,
 "nbformat_minor": 2
}
